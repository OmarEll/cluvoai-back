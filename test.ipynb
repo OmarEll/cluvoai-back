{
 "cells": [
  {
   "cell_type": "code",
   "execution_count": 1,
   "id": "7ce57e45",
   "metadata": {},
   "outputs": [],
   "source": [
    "headers = {\n",
    "            'X-RapidAPI-Key': \"a5c08591dcmsh8766e6ab76e664ap14ce61jsna1fc8f3f97cd\",\n",
    "            'X-RapidAPI-Host': 'crunchbase4.p.rapidapi.com'\n",
    "        }\n",
    "        "
   ]
  },
  {
   "cell_type": "code",
   "execution_count": 2,
   "id": "508d5bc8",
   "metadata": {},
   "outputs": [],
   "source": [
    "url = \"https://crunchbase4.p.rapidapi.com/company\"\n",
    "payloads = [\n",
    "                    {\"company_domain\": \"apple.com\"},\n",
    "                    #{\"company_name\": company_name.lower().replace(' ', '-')}\n",
    "                ]"
   ]
  },
  {
   "cell_type": "code",
   "execution_count": 5,
   "id": "f57f959c",
   "metadata": {},
   "outputs": [
    {
     "name": "stdout",
     "output_type": "stream",
     "text": [
      "{'company': {'about': 'Apple is a technology company that designs, manufactures, and markets consumer electronics, personal computers, and software.', 'founded_year': '1976-04-01', 'funding': {'currency': 'USD', 'value': 1170230000, 'value_usd': 1170230000}, 'industries': ['Artificial Intelligence (AI)', 'Consumer Electronics', 'Hardware', 'Mobile Devices', 'Operating Systems', 'Wearables'], 'location': 'Cupertino, California, United States, North America', 'long_description': 'Apple is a corporation that designs, manufactures, and markets mobile communication and media devices, personal computers, portable digital music players, and sells a variety of related software, services, peripherals, networking solutions, and third-party digital content and applications.\\n\\n\\nApple provides many products and services, including iPhone; iPad; iPod; Mac; Apple TV; a portfolio of consumer and professional software applications; the iOS and OS X operating systems; iCloud; and accessories, service, and support offerings. \\n\\n\\nIt sells its products worldwide through its retail stores, online stores, direct sales force and third-party cellular network carriers, wholesalers, retailers, and value-added resellers to the consumer and also sells third-party iPhone, iPad, Mac and iPod compatible products, including application software and accessories through its online and retail stores.\\n\\n\\nIntroduced in 1984, the Macintosh was the first widely sold personal computer with a graphical user interface (GUI). That feature and others such as an improved floppy drive design and a low-cost hard drive that made data retrieval faster helped Apple cultivate a reputation for innovation.\\n\\n\\nApple was named as the most admired company in the United States in 2008 and in the world from 2008 to 2012 by the Fortune magazine.\\n\\n\\nThe company was founded by Steven Paul Jobs, Steve Wozniak, and Ronald Gerald Wayne on April 1, 1976, and is headquartered in Cupertino, California.', 'size': '10001+', 'website': 'https://www.apple.com'}}\n"
     ]
    }
   ],
   "source": [
    "import aiohttp\n",
    "async with aiohttp.ClientSession() as session:\n",
    "    for payload in payloads:\n",
    "        async with session.post(url, headers=headers, json=payload) as response:\n",
    "            if response.status == 200:\n",
    "                data = await response.json()\n",
    "                print(data)"
   ]
  }
 ],
 "metadata": {
  "kernelspec": {
   "display_name": ".venv",
   "language": "python",
   "name": "python3"
  },
  "language_info": {
   "codemirror_mode": {
    "name": "ipython",
    "version": 3
   },
   "file_extension": ".py",
   "mimetype": "text/x-python",
   "name": "python",
   "nbconvert_exporter": "python",
   "pygments_lexer": "ipython3",
   "version": "3.11.1"
  }
 },
 "nbformat": 4,
 "nbformat_minor": 5
}
